{
 "cells": [
  {
   "cell_type": "code",
   "execution_count": null,
   "metadata": {},
   "outputs": [],
   "source": [
    "# 1. Import knihoven\n",
    "import pandas as pd\n",
    "from sentence_transformers import SentenceTransformer\n",
    "from sklearn.metrics.pairwise import cosine_similarity\n",
    "import numpy as np"
   ]
  },
  {
   "cell_type": "code",
   "execution_count": null,
   "metadata": {},
   "outputs": [],
   "source": [
    "# 2. Načti katalog\n",
    "rohlik = pd.read_csv('data/rohlik.csv')"
   ]
  },
  {
   "cell_type": "code",
   "execution_count": null,
   "id": "fa62fbcd",
   "metadata": {},
   "outputs": [
    {
     "name": "stderr",
     "output_type": "stream",
     "text": [
      "/var/folders/g3/_j9jhm8x5nzd__2b6r8pvkq40000gn/T/ipykernel_58556/3855198147.py:5: FutureWarning: DataFrame.applymap has been deprecated. Use DataFrame.map instead.\n",
      "  ingredience_df = ingredience_df.applymap(lambda x: x.strip() if isinstance(x, str) else x)\n"
     ]
    }
   ],
   "source": [
    "# 3. Načtení ingrediencí a metadat ze souboru\n",
    "ingredience_df = pd.read_csv(\"data/ingredience.csv\")\n",
    "ingredience_df = ingredience_df.dropna(subset=[\"ingredience_nazev\"]).copy()\n",
    "ingredience_df = ingredience_df.applymap(lambda x: x.strip() if isinstance(x, str) else x)\n",
    "\n",
    "ingredience = ingredience_df[\"ingredience_nazev\"].tolist()\n",
    "\n",
    "mapovani_ingredienci_na_kategorie = {\n",
    "    row[\"ingredience_nazev\"]: str(row[\"klicova_slova_kategorie\"]).split(\", \")\n",
    "    for _, row in ingredience_df.iterrows()\n",
    "    if pd.notna(row[\"klicova_slova_kategorie\"])\n",
    "}\n",
    "\n",
    "blacklist_nazvu = {\n",
    "    row[\"ingredience_nazev\"]: str(row[\"blacklist_slov_nazev\"]).split(\", \")\n",
    "    for _, row in ingredience_df.iterrows()\n",
    "    if pd.notna(row[\"blacklist_slov_nazev\"])\n",
    "}\n",
    "\n",
    "blacklist_kategorii = {\n",
    "    row[\"ingredience_nazev\"]: str(row[\"blacklist_slov_kategorie\"]).split(\", \")\n",
    "    for _, row in ingredience_df.iterrows()\n",
    "    if pd.notna(row[\"blacklist_slov_kategorie\"])\n",
    "}\n"
   ]
  },
  {
   "cell_type": "code",
   "execution_count": null,
   "metadata": {},
   "outputs": [],
   "source": [
    "# 4. Načtení embedding modelu\n",
    "model = SentenceTransformer('all-MiniLM-L6-v2')"
   ]
  },
  {
   "cell_type": "code",
   "execution_count": 40,
   "metadata": {},
   "outputs": [
    {
     "data": {
      "application/vnd.jupyter.widget-view+json": {
       "model_id": "0a716bf159e04b0987eeb361c9e41dd6",
       "version_major": 2,
       "version_minor": 0
      },
      "text/plain": [
       "Batches:   0%|          | 0/3 [00:00<?, ?it/s]"
      ]
     },
     "metadata": {},
     "output_type": "display_data"
    }
   ],
   "source": [
    "# 5. Vytvoření embeddingů pro ingredience\n",
    "ingredience_embeddingy = model.encode(ingredience, show_progress_bar=True)"
   ]
  },
  {
   "cell_type": "code",
   "execution_count": null,
   "metadata": {},
   "outputs": [],
   "source": [
    "# 6. FUnkce - Kontrola kategorie: respektuje klíčová slova i blacklist\n",
    "def kategorie_souhlasi(row, klicova_slova, blacklist_kat):\n",
    "    # 1. Původní hodnoty pro kontrolu prázdnosti\n",
    "    raw_kategorie = [row.get(cat, None) for cat in ['cat4', 'cat3', 'cat2', 'cat1']]\n",
    "    \n",
    "    # 2. Pokud všechny kategorie jsou prázdné nebo NaN → označ jako 'no_category'\n",
    "    if all(pd.isna(k) or k == '' for k in raw_kategorie):\n",
    "        return 'no_category'\n",
    "\n",
    "    # 3. Sloučené stringy pro kontrolu obsahu\n",
    "    kategorie_texty = [str(k).lower() for k in raw_kategorie]\n",
    "    spojene_kategorie = \" \".join(kategorie_texty)\n",
    "\n",
    "    if any(black in spojene_kategorie for black in blacklist_kat):\n",
    "        return False\n",
    "    if any(slovo in spojene_kategorie for slovo in klicova_slova):\n",
    "        return True\n",
    "    return False\n",
    "\n",
    "# 7. Funkce: zakázaná slova v názvu\n",
    "def je_povoleny_nazev(nazev, blacklist):\n",
    "    nazev = str(nazev).lower()\n",
    "    return not any(slovo in nazev for slovo in blacklist)"
   ]
  },
  {
   "cell_type": "code",
   "execution_count": null,
   "metadata": {},
   "outputs": [],
   "source": [
    "# 8. Vyhledání nejlepšího produktu pro každou ingredienci\n",
    "vysledky = []\n",
    "for idx, ingredience_nazev in enumerate(ingredience):\n",
    "    klicova_slova = mapovani_ingredienci_na_kategorie.get(ingredience_nazev, [])\n",
    "\n",
    "    zakazana_slova = blacklist_nazvu.get(ingredience_nazev, [])\n",
    "    zakazane_kategorie = blacklist_kategorii.get(ingredience_nazev, [])\n",
    "\n",
    "    \n",
    "    # Vytvoření embeddingu pro ingredienci\n",
    "    ingredience_emb = ingredience_embeddingy[idx]\n",
    "\n",
    "    # Vyhodnocení kategorií\n",
    "    rohlik['kategorie_match'] = rohlik.apply(lambda row: kategorie_souhlasi(row, klicova_slova, zakazane_kategorie), axis=1)\n",
    "\n",
    "    rohlik['kategorie_match'] = rohlik['kategorie_match'].apply(lambda x: x if x == 'no_category' else bool(x))\n",
    "\n",
    "    \n",
    "    # Vybereme kandidáty (odpovídající kategorie nebo prázdná kategorie)\n",
    "    kandidati = rohlik[(rohlik['kategorie_match'] == True) | (rohlik['kategorie_match'] == 'no_category')].copy()\n",
    "\n",
    "    # Filtrování podle zakázaných slov v názvu\n",
    "    kandidati = kandidati[kandidati['itemName'].apply(lambda x: je_povoleny_nazev(x, zakazana_slova))]\n",
    "\n",
    "    if kandidati.empty:\n",
    "        print(f\"Žádný vhodný produkt pro {ingredience_nazev}\")\n",
    "        continue\n",
    "\n",
    "    # Vytvoření embeddingů názvů kandidátů\n",
    "    kandidati_nazvy = kandidati['itemName'].tolist()\n",
    "    kandidati_embeddingy = model.encode(kandidati_nazvy, show_progress_bar=False)\n",
    "    \n",
    "    # Spočítání podobností\n",
    "    podobnosti = cosine_similarity([ingredience_emb], kandidati_embeddingy)[0]\n",
    "    kandidati['podobnost'] = podobnosti\n",
    "\n",
    "    # Rozlišení prahu podobnosti:\n",
    "    def vhodny_prah(row):\n",
    "        if row['kategorie_match'] == 'no_category':\n",
    "            return 0.65  # bez kategorie chceme vyšší podobnost\n",
    "        else:\n",
    "            return 0.4\n",
    "\n",
    "    kandidati['prah_podobnosti'] = kandidati.apply(vhodny_prah, axis=1)\n",
    "    kandidati = kandidati[kandidati['podobnost'] >= kandidati['prah_podobnosti']]\n",
    "    \n",
    "    if kandidati.empty:\n",
    "        print(f\"Žádný dost podobný produkt pro {ingredience_nazev}\")\n",
    "        continue\n",
    "\n",
    "    # Seřadíme podle nejvyšší podobnosti\n",
    "    kandidati = kandidati.sort_values(by=['podobnost'], ascending=[False])\n",
    "\n",
    "    # Vybereme 15 nejlepších kandidátů\n",
    "    top_kandidati = kandidati.head(20)\n",
    "\n",
    "    for _, produkt in top_kandidati.iterrows():\n",
    "        vysledky.append({\n",
    "            \"Ingredience\": ingredience_nazev,\n",
    "            \"Produkt\": produkt['itemName'],\n",
    "            \"ID\": produkt['id'],\n",
    "            \"URL\": produkt['itemUrl'],\n",
    "            \"IMG\": produkt['img'],\n",
    "            \"Cena\": produkt['price'],\n",
    "            \"Jednotková cena\": produkt['unit_price'],\n",
    "            \"Jednotka\": produkt['unit'],\n",
    "            \"Velikost balení\": produkt['quantity_value'],\n",
    "            \"Jednotka balení\": produkt['quantity_unit'],\n",
    "            \"Kategorie\": produkt['category'],\n",
    "            \"Podobnost\": round(produkt['podobnost'], 3),\n",
    "            \"Původ kategorie\": produkt['kategorie_match']\n",
    "        })"
   ]
  },
  {
   "cell_type": "code",
   "execution_count": null,
   "metadata": {},
   "outputs": [],
   "source": [
    "# 9. Výstup výsledků\n",
    "vysledky_df = pd.DataFrame(vysledky)\n",
    "\n",
    "# 10. Uložení výsledků\n",
    "vysledky_df.to_csv('output/p_01_ingredience_rohlik_predfiltrovane.csv', index=False)"
   ]
  }
 ],
 "metadata": {
  "kernelspec": {
   "display_name": "Python 3",
   "language": "python",
   "name": "python3"
  },
  "language_info": {
   "codemirror_mode": {
    "name": "ipython",
    "version": 3
   },
   "file_extension": ".py",
   "mimetype": "text/x-python",
   "name": "python",
   "nbconvert_exporter": "python",
   "pygments_lexer": "ipython3",
   "version": "3.13.2"
  }
 },
 "nbformat": 4,
 "nbformat_minor": 2
}
