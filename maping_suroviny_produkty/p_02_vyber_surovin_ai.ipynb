{
 "cells": [
  {
   "cell_type": "code",
   "execution_count": 1,
   "metadata": {},
   "outputs": [],
   "source": [
    "# 1. Import knihoven\n",
    "import pandas as pd\n",
    "from openai import OpenAI\n",
    "from dotenv import load_dotenv\n",
    "import os"
   ]
  },
  {
   "cell_type": "code",
   "execution_count": 2,
   "metadata": {},
   "outputs": [],
   "source": [
    "# 2. Vložení openAI API klíče ze skrytého souboru\n",
    "try:\n",
    "    from dotenv import load_dotenv\n",
    "    load_dotenv()\n",
    "except:\n",
    "    pass\n",
    "\n",
    "api_klic = os.getenv(\"OPENAI_API_KEY\")"
   ]
  },
  {
   "cell_type": "code",
   "execution_count": 3,
   "metadata": {},
   "outputs": [],
   "source": [
    "# 3. Předání API klíče a iniciace clienta\n",
    "client = OpenAI(api_key=api_klic)"
   ]
  },
  {
   "cell_type": "code",
   "execution_count": null,
   "metadata": {},
   "outputs": [],
   "source": [
    "# 4a. Načtení předfiltrovaných dat - ROHLÍK\n",
    "rohlik_df = pd.read_csv('output/p_01_ingredience_rohlik_predfiltrovane.csv')"
   ]
  },
  {
   "cell_type": "code",
   "execution_count": null,
   "metadata": {},
   "outputs": [],
   "source": [
    "# 4b.Načtení předfiltrovaných dat - KOŠÍK\n",
    "kosik_df = pd.read_csv('output/p_01_ingredience_kosik_predfiltrovane.csv')"
   ]
  },
  {
   "cell_type": "code",
   "execution_count": null,
   "metadata": {},
   "outputs": [],
   "source": [
    "# 5. Načtení dat o ingredincích a receptech\n",
    "recept_ingred = pd.read_csv('data/recept_seznam_ingredienci.csv')\n",
    "\n",
    "recepty_pro_ingredienci = (\n",
    "    recept_ingred.groupby(\"ingredience_nazev\")[\"recept_nazev\"]\n",
    "    .apply(lambda x: \", \".join(sorted(set(x))))\n",
    "    .reset_index()\n",
    "    .rename(columns={\"recept_nazev\": \"seznam_receptu\", \"ingredience_nazev\": \"Ingredience\"})\n",
    ")"
   ]
  },
  {
   "cell_type": "code",
   "execution_count": null,
   "metadata": {},
   "outputs": [],
   "source": [
    "# 6a. Sloučení s původní tabulkou ingrediencí - ROHLÍK\n",
    "rohlik = rohlik_df.merge(recepty_pro_ingredienci, on=\"Ingredience\", how=\"left\")\n"
   ]
  },
  {
   "cell_type": "code",
   "execution_count": null,
   "metadata": {},
   "outputs": [],
   "source": [
    "# 6b. Sloučení s původní tabulkou ingrediencí - KOŠÍK\n",
    "kosik = kosik_df.merge(recepty_pro_ingredienci, on=\"Ingredience\", how=\"left\")\n"
   ]
  },
  {
   "cell_type": "code",
   "execution_count": null,
   "metadata": {},
   "outputs": [],
   "source": [
    "# 7a. Ověřování vhodnosti produktů pro KOSIK\n",
    "\n",
    "kosik['Vhodný produkt'] = None\n",
    "\n",
    "for index, row in kosik.iterrows():\n",
    "    surovina = row['Ingredience']\n",
    "    produkt = row['Produkt']\n",
    "    kategorie = row['Kategorie']\n",
    "    recepty = row[\"seznam_receptu\"]\n",
    "\n",
    "    completion = client.chat.completions.create(\n",
    "                    model=\"gpt-4o\",\n",
    "                    messages=[\n",
    "                            {\"role\": \"system\",\n",
    "                             \"content\": \"Jsi nápomocný asistent pro hledání vhodných produktů pro vaření či pečení podle receptu. Buď striktní, např. 'vanilkové mléko' není vhodný produkt pro 'mléko' ani do sladkých receptů jako je bábovka. Zároveň ale 'TTD krupice cukr bílý' je vhodný produkt pro surovinu 'krupicový cukr'. Pro hovězí pečeni na svíčkovou omáčku se hodí např. hovězí zadní, karabáček, květová špička, loupaná nebo kulatá plec. Na guláš chceme kližku. Neposuzuj, zda daná surovina patří do daných receptů, např. pokud hledám skořici do guláše, najdi vhodnou skořici. Odpovídej True nebo False.\"},\n",
    "                             {\"role\": \"user\",\n",
    "                             \"content\": \"Hledám vhodný produkt pro tuto surovinu: \" + surovina + \"pro recepty na tyto pokrmy: \" + recepty + \"Je tento produkt vhodný?\" + produkt}\n",
    "                            ]\n",
    "                    )\n",
    "    \n",
    "    # zde vyextrahujete obsah odpovědi\n",
    "    response_text = completion.choices[0].message.content\n",
    "\n",
    "    kosik.at[index, 'Vhodný produkt'] = response_text"
   ]
  },
  {
   "cell_type": "code",
   "execution_count": null,
   "metadata": {},
   "outputs": [],
   "source": [
    "# 8a. Export Kosik to csv\n",
    "kosik.to_csv('output/p_02_ingredience_kosik_pouze_relevantni_produkty.csv', index=False)"
   ]
  },
  {
   "cell_type": "code",
   "execution_count": null,
   "metadata": {},
   "outputs": [],
   "source": [
    "# 9a. Vyfiltrování pouze relevantních produktů a výběr jednoho nejlevnějšího (jednotková cena)\n",
    "\n",
    "# Filter rows where 'Vhodný produkt' is True\n",
    "kosik_final = kosik[kosik['Vhodný produkt'] == 'True']\n",
    "\n",
    "kosik_final = kosik_final.sort_values(by=['Ingredience', 'Jednotková cena'], ascending=[True, True])\n",
    "\n",
    "# Export this mid_step to csv\n",
    "kosik_final.to_csv('output/p_03_ingredience_kosik_almost_final.csv', index=False)\n",
    "\n",
    "# For each 'Ingredience', select the product with the lowest 'Jednotková cena'\n",
    "kosik_final = kosik_final.loc[kosik_final.groupby('Ingredience')['Jednotková cena'].idxmin()]\n",
    "\n",
    "# Fix Kosik images\n",
    "kosik_final[\"IMG\"] = kosik_final[\"IMG\"] \\\n",
    "    .str.replace(\"WIDTH\", \"860\") \\\n",
    "    .str.replace(\"HEIGHT\", \"800\")\n",
    "\n",
    "# Export Kosik to csv\n",
    "kosik_final.to_csv('output/p_04_ingredience_kosik_final.csv', index=False)"
   ]
  },
  {
   "cell_type": "code",
   "execution_count": null,
   "metadata": {},
   "outputs": [],
   "source": [
    "# 7b. Ověřování vhodnosti produktů pro ROHLIK\n",
    "\n",
    "rohlik['Vhodný produkt'] = None\n",
    "\n",
    "for index, row in rohlik.iterrows():\n",
    "    surovina = row['Ingredience']\n",
    "    produkt = row['Produkt']\n",
    "    kategorie = row['Kategorie']\n",
    "    recepty = row[\"seznam_receptu\"]\n",
    "\n",
    "    completion = client.chat.completions.create(\n",
    "                    model=\"gpt-4o\",\n",
    "                    messages=[\n",
    "                            {\"role\": \"system\",\n",
    "                             \"content\": \"Jsi nápomocný asistent pro hledání vhodných produktů pro vaření či pečení podle receptu. Buď striktní, např. 'vanilkové mléko' není vhodný produkt pro 'mléko' ani do sladkých receptů jako je bábovka. Zároveň ale 'TTD krupice cukr bílý' je vhodný produkt pro surovinu 'krupicový cukr'. Pro hovězí pečeni na svíčkovou omáčku se hodí např. hovězí zadní, karabáček, květová špička, loupaná nebo kulatá plec. Na guláš chceme kližku. Neposuzuj, zda daná surovina patří do daných receptů, např. pokud hledám skořici do guláše, najdi vhodnou skořici Odpovídej True nebo False.\"},\n",
    "                             {\"role\": \"user\",\n",
    "                             \"content\": \"Hledám vhodný produkt pro tuto surovinu: \" + surovina + \"pro recepty na tyto pokrmy: \" + recepty + \"Je tento produkt vhodný?\" + produkt}\n",
    "                            ]\n",
    "                    )\n",
    "    \n",
    "    # zde vyextrahujete obsah odpovědi\n",
    "    response_text = completion.choices[0].message.content\n",
    "\n",
    "    rohlik.at[index, 'Vhodný produkt'] = response_text"
   ]
  },
  {
   "cell_type": "code",
   "execution_count": null,
   "metadata": {},
   "outputs": [],
   "source": [
    "# 8b. Export Rohlik to csv\n",
    "rohlik.to_csv('output/p_02_ingredience_rohlik_pouze_relevantni_produkty.csv', index=False)\n"
   ]
  },
  {
   "cell_type": "code",
   "execution_count": null,
   "metadata": {},
   "outputs": [],
   "source": [
    "# 9b. Vyfiltrování pouze relevantních produktů a výběr jednoho nejlevnějšího (jednotková cena)\n",
    "\n",
    "# Filter rows where 'Vhodný produkt' is True\n",
    "rohlik_final = rohlik[rohlik['Vhodný produkt'] == 'True']\n",
    "\n",
    "rohlik_final = rohlik_final.sort_values(by=['Ingredience', 'Jednotková cena'], ascending=[True, True])\n",
    "\n",
    "# Export this mid_step to csv\n",
    "rohlik_final.to_csv('output/p_03_ingredience_rohlik_almost_final.csv', index=False)\n",
    "\n",
    "# For each 'Ingredience', select the product with the lowest 'Jednotková cena'\n",
    "rohlik_final = rohlik_final.loc[rohlik_final.groupby('Ingredience')['Jednotková cena'].idxmin()]\n",
    "\n",
    "# Export Kosik to csv\n",
    "rohlik_final.to_csv('output/p_04_ingredience_rohlik_final.csv', index=False)"
   ]
  }
 ],
 "metadata": {
  "kernelspec": {
   "display_name": "Python 3",
   "language": "python",
   "name": "python3"
  },
  "language_info": {
   "codemirror_mode": {
    "name": "ipython",
    "version": 3
   },
   "file_extension": ".py",
   "mimetype": "text/x-python",
   "name": "python",
   "nbconvert_exporter": "python",
   "pygments_lexer": "ipython3",
   "version": "3.13.2"
  }
 },
 "nbformat": 4,
 "nbformat_minor": 2
}
